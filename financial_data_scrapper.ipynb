{
 "metadata": {
  "language_info": {
   "codemirror_mode": {
    "name": "ipython",
    "version": 3
   },
   "file_extension": ".py",
   "mimetype": "text/x-python",
   "name": "python",
   "nbconvert_exporter": "python",
   "pygments_lexer": "ipython3",
   "version": "3.8.5-final"
  },
  "orig_nbformat": 2,
  "kernelspec": {
   "name": "python3",
   "display_name": "Python 3",
   "language": "python"
  }
 },
 "nbformat": 4,
 "nbformat_minor": 2,
 "cells": [
  {
   "source": [
    "#Instruction\n",
    "\n",
    "1. Download yfinance library\n",
    "2. Just run all the code blocks"
   ],
   "cell_type": "markdown",
   "metadata": {}
  },
  {
   "cell_type": "code",
   "execution_count": 23,
   "metadata": {},
   "outputs": [
    {
     "output_type": "stream",
     "name": "stdout",
     "text": [
      "[*********************100%***********************]  2 of 2 completed\n"
     ]
    }
   ],
   "source": [
    "import yfinance as yf"
   ]
  },
  {
   "cell_type": "code",
   "execution_count": 35,
   "metadata": {},
   "outputs": [
    {
     "output_type": "stream",
     "name": "stdout",
     "text": [
      "[*********************100%***********************]  1 of 1 completed\n"
     ]
    }
   ],
   "source": [
    "data = yf.download(  # or pdr.get_data_yahoo(...\n",
    "        # tickers list or string as well\n",
    "        tickers = \"FB\",\n",
    "\n",
    "        # use \"period\" instead of start/end\n",
    "        # valid periods: 1d,5d,1mo,3mo,6mo,1y,2y,5y,10y,ytd,max\n",
    "        # (optional, default is '1mo')\n",
    "        period = \"5y\",\n",
    "\n",
    "        # fetch data by interval (including intraday if period < 60 days)\n",
    "        # valid intervals: 1m,2m,5m,15m,30m,60m,90m,1h,1d,5d,1wk,1mo,3mo\n",
    "        # (optional, default is '1d')\n",
    "        interval = \"3mo\",\n",
    "\n",
    "        # group by ticker (to access via data['SPY'])\n",
    "        # (optional, default is 'column')\n",
    "        group_by = 'ticker',\n",
    "\n",
    "        # adjust all OHLC automatically\n",
    "        # (optional, default is False)\n",
    "        auto_adjust = True,\n",
    "\n",
    "        # download pre/post regular market hours data\n",
    "        # (optional, default is False)\n",
    "        prepost = True,\n",
    "\n",
    "        # use threads for mass downloading? (True/False/Integer)\n",
    "        # (optional, default is True)\n",
    "        threads = True,\n",
    "\n",
    "        # proxy URL scheme use use when downloading?\n",
    "        # (optional, default is None)\n",
    "        proxy = None\n",
    "    )"
   ]
  },
  {
   "cell_type": "code",
   "execution_count": 53,
   "metadata": {},
   "outputs": [
    {
     "output_type": "stream",
     "name": "stdout",
     "text": [
      "[*********************100%***********************]  1 of 1 completed\n"
     ]
    }
   ],
   "source": [
    "datas = yf.download(\"FB\", start=\"2017-01-01\", end=\"2020-04-30\")\n",
    "datas.to_csv('./Dataset/Facebook.csv', index=False)"
   ]
  },
  {
   "cell_type": "code",
   "execution_count": 37,
   "metadata": {},
   "outputs": [
    {
     "output_type": "execute_result",
     "data": {
      "text/plain": [
       "                  Open        High         Low       Close   Adj Close  \\\n",
       "Date                                                                     \n",
       "2017-01-03  116.029999  117.839996  115.510002  116.860001  116.860001   \n",
       "2017-01-04  117.550003  119.660004  117.290001  118.690002  118.690002   \n",
       "2017-01-05  118.860001  120.949997  118.320000  120.669998  120.669998   \n",
       "2017-01-06  120.980003  123.879997  120.029999  123.410004  123.410004   \n",
       "2017-01-09  123.550003  125.430000  123.040001  124.900002  124.900002   \n",
       "...                ...         ...         ...         ...         ...   \n",
       "2020-04-23  184.080002  187.050003  183.149994  185.130005  185.130005   \n",
       "2020-04-24  183.229996  190.410004  180.830002  190.070007  190.070007   \n",
       "2020-04-27  192.660004  193.750000  187.410004  187.500000  187.500000   \n",
       "2020-04-28  188.660004  189.199997  182.559998  182.910004  182.910004   \n",
       "2020-04-29  190.929993  196.910004  190.000000  194.190002  194.190002   \n",
       "\n",
       "              Volume  \n",
       "Date                  \n",
       "2017-01-03  20663900  \n",
       "2017-01-04  19630900  \n",
       "2017-01-05  19492200  \n",
       "2017-01-06  28545300  \n",
       "2017-01-09  22880400  \n",
       "...              ...  \n",
       "2020-04-23  21426600  \n",
       "2020-04-24  28792000  \n",
       "2020-04-27  29197800  \n",
       "2020-04-28  21731000  \n",
       "2020-04-29  45954500  \n",
       "\n",
       "[836 rows x 6 columns]"
      ],
      "text/html": "<div>\n<style scoped>\n    .dataframe tbody tr th:only-of-type {\n        vertical-align: middle;\n    }\n\n    .dataframe tbody tr th {\n        vertical-align: top;\n    }\n\n    .dataframe thead th {\n        text-align: right;\n    }\n</style>\n<table border=\"1\" class=\"dataframe\">\n  <thead>\n    <tr style=\"text-align: right;\">\n      <th></th>\n      <th>Open</th>\n      <th>High</th>\n      <th>Low</th>\n      <th>Close</th>\n      <th>Adj Close</th>\n      <th>Volume</th>\n    </tr>\n    <tr>\n      <th>Date</th>\n      <th></th>\n      <th></th>\n      <th></th>\n      <th></th>\n      <th></th>\n      <th></th>\n    </tr>\n  </thead>\n  <tbody>\n    <tr>\n      <th>2017-01-03</th>\n      <td>116.029999</td>\n      <td>117.839996</td>\n      <td>115.510002</td>\n      <td>116.860001</td>\n      <td>116.860001</td>\n      <td>20663900</td>\n    </tr>\n    <tr>\n      <th>2017-01-04</th>\n      <td>117.550003</td>\n      <td>119.660004</td>\n      <td>117.290001</td>\n      <td>118.690002</td>\n      <td>118.690002</td>\n      <td>19630900</td>\n    </tr>\n    <tr>\n      <th>2017-01-05</th>\n      <td>118.860001</td>\n      <td>120.949997</td>\n      <td>118.320000</td>\n      <td>120.669998</td>\n      <td>120.669998</td>\n      <td>19492200</td>\n    </tr>\n    <tr>\n      <th>2017-01-06</th>\n      <td>120.980003</td>\n      <td>123.879997</td>\n      <td>120.029999</td>\n      <td>123.410004</td>\n      <td>123.410004</td>\n      <td>28545300</td>\n    </tr>\n    <tr>\n      <th>2017-01-09</th>\n      <td>123.550003</td>\n      <td>125.430000</td>\n      <td>123.040001</td>\n      <td>124.900002</td>\n      <td>124.900002</td>\n      <td>22880400</td>\n    </tr>\n    <tr>\n      <th>...</th>\n      <td>...</td>\n      <td>...</td>\n      <td>...</td>\n      <td>...</td>\n      <td>...</td>\n      <td>...</td>\n    </tr>\n    <tr>\n      <th>2020-04-23</th>\n      <td>184.080002</td>\n      <td>187.050003</td>\n      <td>183.149994</td>\n      <td>185.130005</td>\n      <td>185.130005</td>\n      <td>21426600</td>\n    </tr>\n    <tr>\n      <th>2020-04-24</th>\n      <td>183.229996</td>\n      <td>190.410004</td>\n      <td>180.830002</td>\n      <td>190.070007</td>\n      <td>190.070007</td>\n      <td>28792000</td>\n    </tr>\n    <tr>\n      <th>2020-04-27</th>\n      <td>192.660004</td>\n      <td>193.750000</td>\n      <td>187.410004</td>\n      <td>187.500000</td>\n      <td>187.500000</td>\n      <td>29197800</td>\n    </tr>\n    <tr>\n      <th>2020-04-28</th>\n      <td>188.660004</td>\n      <td>189.199997</td>\n      <td>182.559998</td>\n      <td>182.910004</td>\n      <td>182.910004</td>\n      <td>21731000</td>\n    </tr>\n    <tr>\n      <th>2020-04-29</th>\n      <td>190.929993</td>\n      <td>196.910004</td>\n      <td>190.000000</td>\n      <td>194.190002</td>\n      <td>194.190002</td>\n      <td>45954500</td>\n    </tr>\n  </tbody>\n</table>\n<p>836 rows × 6 columns</p>\n</div>"
     },
     "metadata": {},
     "execution_count": 37
    }
   ],
   "source": [
    "datas"
   ]
  },
  {
   "cell_type": "code",
   "execution_count": 38,
   "metadata": {},
   "outputs": [
    {
     "output_type": "execute_result",
     "data": {
      "text/plain": [
       "Open      0\n",
       "High      0\n",
       "Low       0\n",
       "Close     0\n",
       "Volume    0\n",
       "dtype: int64"
      ]
     },
     "metadata": {},
     "execution_count": 38
    }
   ],
   "source": [
    "data.isnull().sum()"
   ]
  },
  {
   "cell_type": "code",
   "execution_count": 54,
   "metadata": {},
   "outputs": [
    {
     "output_type": "stream",
     "name": "stdout",
     "text": [
      "[*********************100%***********************]  1 of 1 completed\n"
     ]
    }
   ],
   "source": [
    "datass = yf.download(\"SPY\", start=\"2017-01-01\", end=\"2020-04-30\")\n",
    "datass.to_csv('./Dataset/SPY.csv', index=False)"
   ]
  },
  {
   "cell_type": "code",
   "execution_count": 51,
   "metadata": {},
   "outputs": [
    {
     "output_type": "execute_result",
     "data": {
      "text/plain": [
       "                  Open        High         Low       Close   Adj Close  \\\n",
       "Date                                                                     \n",
       "2017-01-03  225.039993  225.830002  223.880005  225.240005  208.895447   \n",
       "2017-01-04  225.619995  226.750000  225.610001  226.580002  210.138245   \n",
       "2017-01-05  226.270004  226.580002  225.479996  226.399994  209.971268   \n",
       "2017-01-06  226.529999  227.750000  225.899994  227.210007  210.722473   \n",
       "2017-01-09  226.910004  227.070007  226.419998  226.460007  210.026917   \n",
       "...                ...         ...         ...         ...         ...   \n",
       "2020-04-23  280.489990  283.940002  278.750000  279.079987  275.574738   \n",
       "2020-04-24  280.730011  283.700012  278.500000  282.970001  279.415924   \n",
       "2020-04-27  285.119995  288.269989  284.619995  287.049988  283.444672   \n",
       "2020-04-28  291.019989  291.399994  285.399994  285.730011  282.141235   \n",
       "2020-04-29  291.529999  294.880005  290.410004  293.209991  289.527283   \n",
       "\n",
       "               Volume  \n",
       "Date                   \n",
       "2017-01-03   91366500  \n",
       "2017-01-04   78744400  \n",
       "2017-01-05   78379000  \n",
       "2017-01-06   71559900  \n",
       "2017-01-09   46939700  \n",
       "...               ...  \n",
       "2020-04-23  104709700  \n",
       "2020-04-24   85166000  \n",
       "2020-04-27   77896600  \n",
       "2020-04-28  105270000  \n",
       "2020-04-29  118745600  \n",
       "\n",
       "[836 rows x 6 columns]"
      ],
      "text/html": "<div>\n<style scoped>\n    .dataframe tbody tr th:only-of-type {\n        vertical-align: middle;\n    }\n\n    .dataframe tbody tr th {\n        vertical-align: top;\n    }\n\n    .dataframe thead th {\n        text-align: right;\n    }\n</style>\n<table border=\"1\" class=\"dataframe\">\n  <thead>\n    <tr style=\"text-align: right;\">\n      <th></th>\n      <th>Open</th>\n      <th>High</th>\n      <th>Low</th>\n      <th>Close</th>\n      <th>Adj Close</th>\n      <th>Volume</th>\n    </tr>\n    <tr>\n      <th>Date</th>\n      <th></th>\n      <th></th>\n      <th></th>\n      <th></th>\n      <th></th>\n      <th></th>\n    </tr>\n  </thead>\n  <tbody>\n    <tr>\n      <th>2017-01-03</th>\n      <td>225.039993</td>\n      <td>225.830002</td>\n      <td>223.880005</td>\n      <td>225.240005</td>\n      <td>208.895447</td>\n      <td>91366500</td>\n    </tr>\n    <tr>\n      <th>2017-01-04</th>\n      <td>225.619995</td>\n      <td>226.750000</td>\n      <td>225.610001</td>\n      <td>226.580002</td>\n      <td>210.138245</td>\n      <td>78744400</td>\n    </tr>\n    <tr>\n      <th>2017-01-05</th>\n      <td>226.270004</td>\n      <td>226.580002</td>\n      <td>225.479996</td>\n      <td>226.399994</td>\n      <td>209.971268</td>\n      <td>78379000</td>\n    </tr>\n    <tr>\n      <th>2017-01-06</th>\n      <td>226.529999</td>\n      <td>227.750000</td>\n      <td>225.899994</td>\n      <td>227.210007</td>\n      <td>210.722473</td>\n      <td>71559900</td>\n    </tr>\n    <tr>\n      <th>2017-01-09</th>\n      <td>226.910004</td>\n      <td>227.070007</td>\n      <td>226.419998</td>\n      <td>226.460007</td>\n      <td>210.026917</td>\n      <td>46939700</td>\n    </tr>\n    <tr>\n      <th>...</th>\n      <td>...</td>\n      <td>...</td>\n      <td>...</td>\n      <td>...</td>\n      <td>...</td>\n      <td>...</td>\n    </tr>\n    <tr>\n      <th>2020-04-23</th>\n      <td>280.489990</td>\n      <td>283.940002</td>\n      <td>278.750000</td>\n      <td>279.079987</td>\n      <td>275.574738</td>\n      <td>104709700</td>\n    </tr>\n    <tr>\n      <th>2020-04-24</th>\n      <td>280.730011</td>\n      <td>283.700012</td>\n      <td>278.500000</td>\n      <td>282.970001</td>\n      <td>279.415924</td>\n      <td>85166000</td>\n    </tr>\n    <tr>\n      <th>2020-04-27</th>\n      <td>285.119995</td>\n      <td>288.269989</td>\n      <td>284.619995</td>\n      <td>287.049988</td>\n      <td>283.444672</td>\n      <td>77896600</td>\n    </tr>\n    <tr>\n      <th>2020-04-28</th>\n      <td>291.019989</td>\n      <td>291.399994</td>\n      <td>285.399994</td>\n      <td>285.730011</td>\n      <td>282.141235</td>\n      <td>105270000</td>\n    </tr>\n    <tr>\n      <th>2020-04-29</th>\n      <td>291.529999</td>\n      <td>294.880005</td>\n      <td>290.410004</td>\n      <td>293.209991</td>\n      <td>289.527283</td>\n      <td>118745600</td>\n    </tr>\n  </tbody>\n</table>\n<p>836 rows × 6 columns</p>\n</div>"
     },
     "metadata": {},
     "execution_count": 51
    }
   ],
   "source": [
    "datass"
   ]
  },
  {
   "cell_type": "code",
   "execution_count": 52,
   "metadata": {},
   "outputs": [
    {
     "output_type": "execute_result",
     "data": {
      "text/plain": [
       "Open         0\n",
       "High         0\n",
       "Low          0\n",
       "Close        0\n",
       "Adj Close    0\n",
       "Volume       0\n",
       "dtype: int64"
      ]
     },
     "metadata": {},
     "execution_count": 52
    }
   ],
   "source": [
    "datass.isnull().sum()"
   ]
  },
  {
   "cell_type": "code",
   "execution_count": 55,
   "metadata": {},
   "outputs": [
    {
     "output_type": "stream",
     "name": "stdout",
     "text": [
      "[*********************100%***********************]  1 of 1 completed\n"
     ]
    }
   ],
   "source": [
    "datassa = yf.download(\"AAPL\", start=\"2017-01-01\", end=\"2020-04-30\")\n",
    "datassa.to_csv('./Dataset/AAPL.csv', index=False)"
   ]
  },
  {
   "cell_type": "code",
   "execution_count": 49,
   "metadata": {},
   "outputs": [
    {
     "output_type": "execute_result",
     "data": {
      "text/plain": [
       "                 Open       High        Low      Close  Adj Close     Volume\n",
       "Date                                                                        \n",
       "2017-01-03  28.950001  29.082500  28.690001  29.037500  27.500973  115127600\n",
       "2017-01-04  28.962500  29.127501  28.937500  29.004999  27.470192   84472400\n",
       "2017-01-05  28.980000  29.215000  28.952499  29.152500  27.609884   88774400\n",
       "2017-01-06  29.195000  29.540001  29.117500  29.477501  27.917688  127007600\n",
       "2017-01-09  29.487499  29.857500  29.485001  29.747499  28.173399  134247600\n",
       "...               ...        ...        ...        ...        ...        ...\n",
       "2020-04-23  68.967499  70.437500  68.717499  68.757500  68.330582  124814400\n",
       "2020-04-24  69.300003  70.752502  69.250000  70.742500  70.303253  126508800\n",
       "2020-04-27  70.449997  71.135002  69.987503  70.792503  70.352943  117087600\n",
       "2020-04-28  71.269997  71.457497  69.550003  69.644997  69.212555  112004800\n",
       "2020-04-29  71.182503  72.417503  70.972504  71.932503  71.485863  137280800\n",
       "\n",
       "[836 rows x 6 columns]"
      ],
      "text/html": "<div>\n<style scoped>\n    .dataframe tbody tr th:only-of-type {\n        vertical-align: middle;\n    }\n\n    .dataframe tbody tr th {\n        vertical-align: top;\n    }\n\n    .dataframe thead th {\n        text-align: right;\n    }\n</style>\n<table border=\"1\" class=\"dataframe\">\n  <thead>\n    <tr style=\"text-align: right;\">\n      <th></th>\n      <th>Open</th>\n      <th>High</th>\n      <th>Low</th>\n      <th>Close</th>\n      <th>Adj Close</th>\n      <th>Volume</th>\n    </tr>\n    <tr>\n      <th>Date</th>\n      <th></th>\n      <th></th>\n      <th></th>\n      <th></th>\n      <th></th>\n      <th></th>\n    </tr>\n  </thead>\n  <tbody>\n    <tr>\n      <th>2017-01-03</th>\n      <td>28.950001</td>\n      <td>29.082500</td>\n      <td>28.690001</td>\n      <td>29.037500</td>\n      <td>27.500973</td>\n      <td>115127600</td>\n    </tr>\n    <tr>\n      <th>2017-01-04</th>\n      <td>28.962500</td>\n      <td>29.127501</td>\n      <td>28.937500</td>\n      <td>29.004999</td>\n      <td>27.470192</td>\n      <td>84472400</td>\n    </tr>\n    <tr>\n      <th>2017-01-05</th>\n      <td>28.980000</td>\n      <td>29.215000</td>\n      <td>28.952499</td>\n      <td>29.152500</td>\n      <td>27.609884</td>\n      <td>88774400</td>\n    </tr>\n    <tr>\n      <th>2017-01-06</th>\n      <td>29.195000</td>\n      <td>29.540001</td>\n      <td>29.117500</td>\n      <td>29.477501</td>\n      <td>27.917688</td>\n      <td>127007600</td>\n    </tr>\n    <tr>\n      <th>2017-01-09</th>\n      <td>29.487499</td>\n      <td>29.857500</td>\n      <td>29.485001</td>\n      <td>29.747499</td>\n      <td>28.173399</td>\n      <td>134247600</td>\n    </tr>\n    <tr>\n      <th>...</th>\n      <td>...</td>\n      <td>...</td>\n      <td>...</td>\n      <td>...</td>\n      <td>...</td>\n      <td>...</td>\n    </tr>\n    <tr>\n      <th>2020-04-23</th>\n      <td>68.967499</td>\n      <td>70.437500</td>\n      <td>68.717499</td>\n      <td>68.757500</td>\n      <td>68.330582</td>\n      <td>124814400</td>\n    </tr>\n    <tr>\n      <th>2020-04-24</th>\n      <td>69.300003</td>\n      <td>70.752502</td>\n      <td>69.250000</td>\n      <td>70.742500</td>\n      <td>70.303253</td>\n      <td>126508800</td>\n    </tr>\n    <tr>\n      <th>2020-04-27</th>\n      <td>70.449997</td>\n      <td>71.135002</td>\n      <td>69.987503</td>\n      <td>70.792503</td>\n      <td>70.352943</td>\n      <td>117087600</td>\n    </tr>\n    <tr>\n      <th>2020-04-28</th>\n      <td>71.269997</td>\n      <td>71.457497</td>\n      <td>69.550003</td>\n      <td>69.644997</td>\n      <td>69.212555</td>\n      <td>112004800</td>\n    </tr>\n    <tr>\n      <th>2020-04-29</th>\n      <td>71.182503</td>\n      <td>72.417503</td>\n      <td>70.972504</td>\n      <td>71.932503</td>\n      <td>71.485863</td>\n      <td>137280800</td>\n    </tr>\n  </tbody>\n</table>\n<p>836 rows × 6 columns</p>\n</div>"
     },
     "metadata": {},
     "execution_count": 49
    }
   ],
   "source": [
    "datassa"
   ]
  },
  {
   "cell_type": "code",
   "execution_count": null,
   "metadata": {},
   "outputs": [],
   "source": []
  }
 ]
}